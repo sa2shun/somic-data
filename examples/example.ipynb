{
 "cells": [
  {
   "cell_type": "code",
   "execution_count": 1,
   "metadata": {},
   "outputs": [],
   "source": [
    "import yaml\n",
    "import albumentations as albu\n",
    "from albumentations.pytorch import ToTensorV2\n",
    "from pathlib import Path\n",
    "\n",
    "import albumentations as albu\n",
    "import cv2\n",
    "import numpy as np\n",
    "import pandas as pd\n",
    "from torch.utils.data import Dataset\n",
    "\n"
   ]
  },
  {
   "cell_type": "code",
   "execution_count": 2,
   "metadata": {},
   "outputs": [],
   "source": [
    "class SomicDataset(Dataset):\n",
    "    def __init__(self, cfg: dict, augs: albu.Compose) -> None:\n",
    "\n",
    "        self.augs = augs\n",
    "        self.base = Path(cfg[\"base\"])\n",
    "        self.stems = []\n",
    "\n",
    "        df = pd.read_csv(self.base / \"info.csv\")\n",
    "        for query in cfg[\"query\"]:\n",
    "            stem = df.query(query)[\"stem\"]\n",
    "            self.stems += stem.to_list()\n",
    "\n",
    "    def __getitem__(self, idx: int):\n",
    "\n",
    "        stem = self.stems[idx]\n",
    "        img = cv2.imread(str(self.base / f\"images/{stem}.jpg\"))\n",
    "        img = cv2.cvtColor(img, cv2.COLOR_BGR2RGB)\n",
    "        mask = cv2.imread(str(self.base / f\"masks/{stem}.png\"), cv2.IMREAD_GRAYSCALE)\n",
    "        mask = np.expand_dims(mask, axis=-1)\n",
    "        label = 0 if mask.sum() == 0 else 1\n",
    "\n",
    "        data = self.augs(image=img, mask=mask)\n",
    "        data[\"mask\"] = data[\"mask\"].permute(2, 0, 1)\n",
    "        data[\"label\"] = label\n",
    "        data[\"stem\"] = stem\n",
    "        return data\n",
    "\n",
    "    def __len__(self) -> int:\n",
    "\n",
    "        return len(self.stems)\n"
   ]
  },
  {
   "cell_type": "code",
   "execution_count": 4,
   "metadata": {},
   "outputs": [],
   "source": [
    "augs = albu.Compose([\n",
    "    albu.Resize(height=256, width=256, always_apply=False, p=1),\n",
    "    albu.Normalize(always_apply=False, p=1),\n",
    "    ToTensorV2()\n",
    "])"
   ]
  },
  {
   "cell_type": "markdown",
   "metadata": {},
   "source": [
    "<br>\n",
    "\n",
    "## for Supervised Learning"
   ]
  },
  {
   "cell_type": "code",
   "execution_count": 17,
   "metadata": {},
   "outputs": [
    {
     "data": {
      "text/plain": [
       "1284"
      ]
     },
     "execution_count": 17,
     "metadata": {},
     "output_type": "execute_result"
    }
   ],
   "source": [
    "with open(\"H_tobu_supervised.yaml\") as f:\n",
    "    cfg = yaml.load(f, Loader=yaml.FullLoader)\n",
    "    \n",
    "train_dataset = SomicDataset(cfg[\"train\"], augs)\n",
    "test_dataset = SomicDataset(cfg[\"test\"], augs)\n",
    "len(test_dataset)"
   ]
  },
  {
   "cell_type": "markdown",
   "metadata": {},
   "source": [
    "<br>\n",
    "\n",
    "## for Semi-Supervised Learning"
   ]
  },
  {
   "cell_type": "code",
   "execution_count": 23,
   "metadata": {},
   "outputs": [
    {
     "data": {
      "text/plain": [
       "2288"
      ]
     },
     "execution_count": 23,
     "metadata": {},
     "output_type": "execute_result"
    }
   ],
   "source": [
    "with open(\"H_tobu_semisupervised.yaml\") as f:\n",
    "    cfg = yaml.load(f, Loader=yaml.FullLoader)\n",
    "    \n",
    "train_dataset = SomicDataset(cfg[\"train\"], augs)\n",
    "test_dataset = SomicDataset(cfg[\"test\"], augs)\n",
    "len(train_dataset)"
   ]
  },
  {
   "cell_type": "markdown",
   "metadata": {},
   "source": [
    "<br>\n",
    "\n",
    "## for Unsupervised Learning"
   ]
  },
  {
   "cell_type": "code",
   "execution_count": 15,
   "metadata": {},
   "outputs": [
    {
     "data": {
      "text/plain": [
       "107"
      ]
     },
     "execution_count": 15,
     "metadata": {},
     "output_type": "execute_result"
    }
   ],
   "source": [
    "with open(\"H_tobu_unsupervised.yaml\") as f:\n",
    "    cfg = yaml.load(f, Loader=yaml.FullLoader)\n",
    "    \n",
    "train_dataset = SomicDataset(cfg[\"train\"], augs)\n",
    "test_dataset = SomicDataset(cfg[\"test\"], augs)\n",
    "len(test_dataset)"
   ]
  }
 ],
 "metadata": {
  "kernelspec": {
   "display_name": "Python 3",
   "language": "python",
   "name": "python3"
  },
  "language_info": {
   "codemirror_mode": {
    "name": "ipython",
    "version": 3
   },
   "file_extension": ".py",
   "mimetype": "text/x-python",
   "name": "python",
   "nbconvert_exporter": "python",
   "pygments_lexer": "ipython3",
   "version": "3.6.5"
  }
 },
 "nbformat": 4,
 "nbformat_minor": 4
}
