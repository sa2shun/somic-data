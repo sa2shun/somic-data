{
 "metadata": {
  "language_info": {
   "codemirror_mode": {
    "name": "ipython",
    "version": 3
   },
   "file_extension": ".py",
   "mimetype": "text/x-python",
   "name": "python",
   "nbconvert_exporter": "python",
   "pygments_lexer": "ipython3",
   "version": "3.6.5-final"
  },
  "orig_nbformat": 2,
  "kernelspec": {
   "name": "python_defaultSpec_1599611943628",
   "display_name": "Python 3.6.9 64-bit"
  }
 },
 "nbformat": 4,
 "nbformat_minor": 2,
 "cells": [
  {
   "cell_type": "code",
   "execution_count": 5,
   "metadata": {},
   "outputs": [],
   "source": [
    "import yaml\n",
    "import albumentations as albu\n",
    "from albumentations.pytorch import ToTensorV2\n",
    "from somic_dataset import SomicDataset"
   ]
  },
  {
   "cell_type": "code",
   "execution_count": 7,
   "metadata": {},
   "outputs": [],
   "source": [
    "with open(\"config.yaml\") as f:\n",
    "    cfg = yaml.load(f)\n",
    "\n",
    "augs = albu.Compose([\n",
    "    albu.Resize(height=256, width=256, always_apply=False, p=1),\n",
    "    albu.Normalize(always_apply=False, p=1),\n",
    "    ToTensorV2()\n",
    "])\n",
    "\n",
    "train_dataset = SomicDataset(cfg[\"H_tobu_segmentation\"][\"train\"], augs)\n",
    "test_dataset = SomicDataset(cfg[\"H_tobu_segmentation\"][\"test\"], augs)"
   ]
  }
 ]
}