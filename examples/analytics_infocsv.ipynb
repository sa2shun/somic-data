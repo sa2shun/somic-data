{
 "cells": [
  {
   "cell_type": "code",
   "execution_count": 4,
   "metadata": {},
   "outputs": [],
   "source": [
    "#import the library\n",
    "import pandas as pd\n",
    "import numpy as np\n",
    "import matplotlib.pyplot as plt"
   ]
  },
  {
   "cell_type": "code",
   "execution_count": 5,
   "metadata": {},
   "outputs": [],
   "source": [
    "#read the data\n",
    "df = pd.read_csv('info.csv')"
   ]
  },
  {
   "cell_type": "code",
   "execution_count": 6,
   "metadata": {},
   "outputs": [
    {
     "data": {
      "text/html": [
       "<div>\n",
       "<style scoped>\n",
       "    .dataframe tbody tr th:only-of-type {\n",
       "        vertical-align: middle;\n",
       "    }\n",
       "\n",
       "    .dataframe tbody tr th {\n",
       "        vertical-align: top;\n",
       "    }\n",
       "\n",
       "    .dataframe thead th {\n",
       "        text-align: right;\n",
       "    }\n",
       "</style>\n",
       "<table border=\"1\" class=\"dataframe\">\n",
       "  <thead>\n",
       "    <tr style=\"text-align: right;\">\n",
       "      <th></th>\n",
       "      <th>raw_stem</th>\n",
       "      <th>raw_product_id</th>\n",
       "      <th>timestamp</th>\n",
       "      <th>received_date</th>\n",
       "      <th>product_type</th>\n",
       "      <th>camera_id</th>\n",
       "      <th>crop_type</th>\n",
       "      <th>camera_angle</th>\n",
       "      <th>product_id</th>\n",
       "      <th>stem</th>\n",
       "      <th>...</th>\n",
       "      <th>has_kizu_ware</th>\n",
       "      <th>has_kizu_zairyou</th>\n",
       "      <th>has_ignore_shallow</th>\n",
       "      <th>has_ignore_cutting</th>\n",
       "      <th>has_ignore_oil</th>\n",
       "      <th>has_sabi</th>\n",
       "      <th>has_unuse</th>\n",
       "      <th>is_anomaly_image</th>\n",
       "      <th>is_anomaly_product</th>\n",
       "      <th>data_block_id</th>\n",
       "    </tr>\n",
       "  </thead>\n",
       "  <tbody>\n",
       "    <tr>\n",
       "      <th>0</th>\n",
       "      <td>301_20200825125742545</td>\n",
       "      <td>301</td>\n",
       "      <td>20200825125742545</td>\n",
       "      <td>20201005</td>\n",
       "      <td>H</td>\n",
       "      <td>2</td>\n",
       "      <td>uncrop</td>\n",
       "      <td>0</td>\n",
       "      <td>20200825125742545</td>\n",
       "      <td>20200825125742545_2_0_uncrop</td>\n",
       "      <td>...</td>\n",
       "      <td>0</td>\n",
       "      <td>0</td>\n",
       "      <td>1</td>\n",
       "      <td>0</td>\n",
       "      <td>0</td>\n",
       "      <td>1</td>\n",
       "      <td>0</td>\n",
       "      <td>0.0</td>\n",
       "      <td>1.0</td>\n",
       "      <td>8</td>\n",
       "    </tr>\n",
       "    <tr>\n",
       "      <th>1</th>\n",
       "      <td>301_20200825125744498</td>\n",
       "      <td>301</td>\n",
       "      <td>20200825125744498</td>\n",
       "      <td>20201005</td>\n",
       "      <td>H</td>\n",
       "      <td>2</td>\n",
       "      <td>uncrop</td>\n",
       "      <td>1</td>\n",
       "      <td>20200825125742545</td>\n",
       "      <td>20200825125742545_2_1_uncrop</td>\n",
       "      <td>...</td>\n",
       "      <td>0</td>\n",
       "      <td>0</td>\n",
       "      <td>1</td>\n",
       "      <td>0</td>\n",
       "      <td>0</td>\n",
       "      <td>1</td>\n",
       "      <td>0</td>\n",
       "      <td>1.0</td>\n",
       "      <td>1.0</td>\n",
       "      <td>8</td>\n",
       "    </tr>\n",
       "    <tr>\n",
       "      <th>2</th>\n",
       "      <td>301_20200825125747298</td>\n",
       "      <td>301</td>\n",
       "      <td>20200825125747298</td>\n",
       "      <td>20201005</td>\n",
       "      <td>H</td>\n",
       "      <td>2</td>\n",
       "      <td>uncrop</td>\n",
       "      <td>2</td>\n",
       "      <td>20200825125742545</td>\n",
       "      <td>20200825125742545_2_2_uncrop</td>\n",
       "      <td>...</td>\n",
       "      <td>0</td>\n",
       "      <td>0</td>\n",
       "      <td>0</td>\n",
       "      <td>0</td>\n",
       "      <td>0</td>\n",
       "      <td>1</td>\n",
       "      <td>0</td>\n",
       "      <td>1.0</td>\n",
       "      <td>1.0</td>\n",
       "      <td>8</td>\n",
       "    </tr>\n",
       "    <tr>\n",
       "      <th>3</th>\n",
       "      <td>301_20200825125748732</td>\n",
       "      <td>301</td>\n",
       "      <td>20200825125748732</td>\n",
       "      <td>20201005</td>\n",
       "      <td>H</td>\n",
       "      <td>2</td>\n",
       "      <td>uncrop</td>\n",
       "      <td>3</td>\n",
       "      <td>20200825125742545</td>\n",
       "      <td>20200825125742545_2_3_uncrop</td>\n",
       "      <td>...</td>\n",
       "      <td>0</td>\n",
       "      <td>0</td>\n",
       "      <td>0</td>\n",
       "      <td>0</td>\n",
       "      <td>0</td>\n",
       "      <td>1</td>\n",
       "      <td>0</td>\n",
       "      <td>1.0</td>\n",
       "      <td>1.0</td>\n",
       "      <td>8</td>\n",
       "    </tr>\n",
       "    <tr>\n",
       "      <th>4</th>\n",
       "      <td>301_20200825125750683</td>\n",
       "      <td>301</td>\n",
       "      <td>20200825125750683</td>\n",
       "      <td>20201005</td>\n",
       "      <td>H</td>\n",
       "      <td>2</td>\n",
       "      <td>uncrop</td>\n",
       "      <td>4</td>\n",
       "      <td>20200825125742545</td>\n",
       "      <td>20200825125742545_2_4_uncrop</td>\n",
       "      <td>...</td>\n",
       "      <td>0</td>\n",
       "      <td>0</td>\n",
       "      <td>0</td>\n",
       "      <td>0</td>\n",
       "      <td>0</td>\n",
       "      <td>1</td>\n",
       "      <td>0</td>\n",
       "      <td>1.0</td>\n",
       "      <td>1.0</td>\n",
       "      <td>8</td>\n",
       "    </tr>\n",
       "  </tbody>\n",
       "</table>\n",
       "<p>5 rows × 21 columns</p>\n",
       "</div>"
      ],
      "text/plain": [
       "                raw_stem  raw_product_id          timestamp  received_date  \\\n",
       "0  301_20200825125742545             301  20200825125742545       20201005   \n",
       "1  301_20200825125744498             301  20200825125744498       20201005   \n",
       "2  301_20200825125747298             301  20200825125747298       20201005   \n",
       "3  301_20200825125748732             301  20200825125748732       20201005   \n",
       "4  301_20200825125750683             301  20200825125750683       20201005   \n",
       "\n",
       "  product_type  camera_id crop_type  camera_angle         product_id  \\\n",
       "0            H          2    uncrop             0  20200825125742545   \n",
       "1            H          2    uncrop             1  20200825125742545   \n",
       "2            H          2    uncrop             2  20200825125742545   \n",
       "3            H          2    uncrop             3  20200825125742545   \n",
       "4            H          2    uncrop             4  20200825125742545   \n",
       "\n",
       "                           stem  ...  has_kizu_ware  has_kizu_zairyou  \\\n",
       "0  20200825125742545_2_0_uncrop  ...              0                 0   \n",
       "1  20200825125742545_2_1_uncrop  ...              0                 0   \n",
       "2  20200825125742545_2_2_uncrop  ...              0                 0   \n",
       "3  20200825125742545_2_3_uncrop  ...              0                 0   \n",
       "4  20200825125742545_2_4_uncrop  ...              0                 0   \n",
       "\n",
       "   has_ignore_shallow  has_ignore_cutting  has_ignore_oil  has_sabi  \\\n",
       "0                   1                   0               0         1   \n",
       "1                   1                   0               0         1   \n",
       "2                   0                   0               0         1   \n",
       "3                   0                   0               0         1   \n",
       "4                   0                   0               0         1   \n",
       "\n",
       "   has_unuse  is_anomaly_image  is_anomaly_product  data_block_id  \n",
       "0          0               0.0                 1.0              8  \n",
       "1          0               1.0                 1.0              8  \n",
       "2          0               1.0                 1.0              8  \n",
       "3          0               1.0                 1.0              8  \n",
       "4          0               1.0                 1.0              8  \n",
       "\n",
       "[5 rows x 21 columns]"
      ]
     },
     "execution_count": 6,
     "metadata": {},
     "output_type": "execute_result"
    }
   ],
   "source": [
    "#check the data\n",
    "df.head(5)"
   ]
  },
  {
   "cell_type": "code",
   "execution_count": 7,
   "metadata": {},
   "outputs": [
    {
     "data": {
      "text/plain": [
       "'uncrop'"
      ]
     },
     "execution_count": 7,
     "metadata": {},
     "output_type": "execute_result"
    }
   ],
   "source": [
    "df['crop_type'][1]"
   ]
  },
  {
   "cell_type": "code",
   "execution_count": 8,
   "metadata": {},
   "outputs": [],
   "source": [
    "#separate the df to \"uncrop\" and \"tobu or ziku\"(take a minutes)\n",
    "df_uncrop = pd.DataFrame()\n",
    "df_tobu_or_ziku = pd.DataFrame()\n",
    "for i in range(len(df)):\n",
    "    if df['crop_type'][i] == 'uncrop':\n",
    "        df_uncrop = df_uncrop.append(df.iloc[i])\n",
    "    else:\n",
    "        df_tobu_or_ziku = df_tobu_or_ziku.append(df.iloc[i])"
   ]
  },
  {
   "cell_type": "code",
   "execution_count": 9,
   "metadata": {},
   "outputs": [],
   "source": [
    "#reset the index\n",
    "df_uncrop = df_uncrop.reset_index()\n",
    "df_tobu_or_ziku = df_tobu_or_ziku.reset_index()"
   ]
  },
  {
   "cell_type": "code",
   "execution_count": 10,
   "metadata": {},
   "outputs": [
    {
     "name": "stdout",
     "output_type": "stream",
     "text": [
      "df_uncrop:4344,df_tobu_or_ziku:8688\n"
     ]
    }
   ],
   "source": [
    "#check the number of culumns\n",
    "print(f\"df_uncrop:{len(df_uncrop)},df_tobu_or_ziku:{len(df_tobu_or_ziku)}\")"
   ]
  },
  {
   "cell_type": "code",
   "execution_count": 11,
   "metadata": {},
   "outputs": [],
   "source": [
    "#count wounds by type (df_uncrop)\n",
    "df_counter = pd.DataFrame(np.zeros(96).reshape(12, 8),\n",
    "                  columns=['has_kizu_dakon', 'has_kizu_ware', 'has_kizu_zairyou', \\\n",
    "                           'has_ignore_shallow', 'has_ignore_cutting', 'has_ignore_oil',\\\n",
    "                           'has_sabi', 'has_unuse'], # kizu_type\n",
    "                  index=['cam_0', 'cam_1','cam_2','cam_3','cam_4','cam_5','cam_6','cam_7','cam_8','cam_9','cam_10','cam_11']) #cam_X == camara_angle\n",
    "for i in range(len(df_uncrop)):\n",
    "    for k in df_counter.columns:\n",
    "        if df_uncrop[k][i] == 1.0:\n",
    "            df_counter[k][int(df_uncrop['camera_angle'][i])] += 1"
   ]
  },
  {
   "cell_type": "code",
   "execution_count": 12,
   "metadata": {},
   "outputs": [
    {
     "data": {
      "text/html": [
       "<div>\n",
       "<style scoped>\n",
       "    .dataframe tbody tr th:only-of-type {\n",
       "        vertical-align: middle;\n",
       "    }\n",
       "\n",
       "    .dataframe tbody tr th {\n",
       "        vertical-align: top;\n",
       "    }\n",
       "\n",
       "    .dataframe thead th {\n",
       "        text-align: right;\n",
       "    }\n",
       "</style>\n",
       "<table border=\"1\" class=\"dataframe\">\n",
       "  <thead>\n",
       "    <tr style=\"text-align: right;\">\n",
       "      <th></th>\n",
       "      <th>has_kizu_dakon</th>\n",
       "      <th>has_kizu_ware</th>\n",
       "      <th>has_kizu_zairyou</th>\n",
       "      <th>has_ignore_shallow</th>\n",
       "      <th>has_ignore_cutting</th>\n",
       "      <th>has_ignore_oil</th>\n",
       "      <th>has_sabi</th>\n",
       "      <th>has_unuse</th>\n",
       "    </tr>\n",
       "  </thead>\n",
       "  <tbody>\n",
       "    <tr>\n",
       "      <th>cam_0</th>\n",
       "      <td>57.0</td>\n",
       "      <td>0.0</td>\n",
       "      <td>13.0</td>\n",
       "      <td>84.0</td>\n",
       "      <td>68.0</td>\n",
       "      <td>3.0</td>\n",
       "      <td>261.0</td>\n",
       "      <td>7.0</td>\n",
       "    </tr>\n",
       "    <tr>\n",
       "      <th>cam_1</th>\n",
       "      <td>88.0</td>\n",
       "      <td>1.0</td>\n",
       "      <td>14.0</td>\n",
       "      <td>123.0</td>\n",
       "      <td>61.0</td>\n",
       "      <td>7.0</td>\n",
       "      <td>252.0</td>\n",
       "      <td>6.0</td>\n",
       "    </tr>\n",
       "    <tr>\n",
       "      <th>cam_2</th>\n",
       "      <td>103.0</td>\n",
       "      <td>2.0</td>\n",
       "      <td>18.0</td>\n",
       "      <td>216.0</td>\n",
       "      <td>48.0</td>\n",
       "      <td>7.0</td>\n",
       "      <td>244.0</td>\n",
       "      <td>7.0</td>\n",
       "    </tr>\n",
       "    <tr>\n",
       "      <th>cam_3</th>\n",
       "      <td>133.0</td>\n",
       "      <td>2.0</td>\n",
       "      <td>18.0</td>\n",
       "      <td>201.0</td>\n",
       "      <td>6.0</td>\n",
       "      <td>6.0</td>\n",
       "      <td>220.0</td>\n",
       "      <td>6.0</td>\n",
       "    </tr>\n",
       "    <tr>\n",
       "      <th>cam_4</th>\n",
       "      <td>119.0</td>\n",
       "      <td>2.0</td>\n",
       "      <td>21.0</td>\n",
       "      <td>276.0</td>\n",
       "      <td>0.0</td>\n",
       "      <td>3.0</td>\n",
       "      <td>192.0</td>\n",
       "      <td>7.0</td>\n",
       "    </tr>\n",
       "    <tr>\n",
       "      <th>cam_5</th>\n",
       "      <td>96.0</td>\n",
       "      <td>2.0</td>\n",
       "      <td>24.0</td>\n",
       "      <td>82.0</td>\n",
       "      <td>0.0</td>\n",
       "      <td>2.0</td>\n",
       "      <td>204.0</td>\n",
       "      <td>9.0</td>\n",
       "    </tr>\n",
       "    <tr>\n",
       "      <th>cam_6</th>\n",
       "      <td>122.0</td>\n",
       "      <td>2.0</td>\n",
       "      <td>20.0</td>\n",
       "      <td>266.0</td>\n",
       "      <td>5.0</td>\n",
       "      <td>5.0</td>\n",
       "      <td>202.0</td>\n",
       "      <td>7.0</td>\n",
       "    </tr>\n",
       "    <tr>\n",
       "      <th>cam_7</th>\n",
       "      <td>120.0</td>\n",
       "      <td>1.0</td>\n",
       "      <td>16.0</td>\n",
       "      <td>157.0</td>\n",
       "      <td>23.0</td>\n",
       "      <td>8.0</td>\n",
       "      <td>245.0</td>\n",
       "      <td>5.0</td>\n",
       "    </tr>\n",
       "    <tr>\n",
       "      <th>cam_8</th>\n",
       "      <td>99.0</td>\n",
       "      <td>1.0</td>\n",
       "      <td>13.0</td>\n",
       "      <td>222.0</td>\n",
       "      <td>27.0</td>\n",
       "      <td>8.0</td>\n",
       "      <td>246.0</td>\n",
       "      <td>4.0</td>\n",
       "    </tr>\n",
       "    <tr>\n",
       "      <th>cam_9</th>\n",
       "      <td>107.0</td>\n",
       "      <td>1.0</td>\n",
       "      <td>11.0</td>\n",
       "      <td>87.0</td>\n",
       "      <td>40.0</td>\n",
       "      <td>8.0</td>\n",
       "      <td>249.0</td>\n",
       "      <td>5.0</td>\n",
       "    </tr>\n",
       "    <tr>\n",
       "      <th>cam_10</th>\n",
       "      <td>68.0</td>\n",
       "      <td>1.0</td>\n",
       "      <td>7.0</td>\n",
       "      <td>71.0</td>\n",
       "      <td>32.0</td>\n",
       "      <td>2.0</td>\n",
       "      <td>261.0</td>\n",
       "      <td>4.0</td>\n",
       "    </tr>\n",
       "    <tr>\n",
       "      <th>cam_11</th>\n",
       "      <td>44.0</td>\n",
       "      <td>0.0</td>\n",
       "      <td>8.0</td>\n",
       "      <td>68.0</td>\n",
       "      <td>47.0</td>\n",
       "      <td>1.0</td>\n",
       "      <td>266.0</td>\n",
       "      <td>4.0</td>\n",
       "    </tr>\n",
       "  </tbody>\n",
       "</table>\n",
       "</div>"
      ],
      "text/plain": [
       "        has_kizu_dakon  has_kizu_ware  has_kizu_zairyou  has_ignore_shallow  \\\n",
       "cam_0             57.0            0.0              13.0                84.0   \n",
       "cam_1             88.0            1.0              14.0               123.0   \n",
       "cam_2            103.0            2.0              18.0               216.0   \n",
       "cam_3            133.0            2.0              18.0               201.0   \n",
       "cam_4            119.0            2.0              21.0               276.0   \n",
       "cam_5             96.0            2.0              24.0                82.0   \n",
       "cam_6            122.0            2.0              20.0               266.0   \n",
       "cam_7            120.0            1.0              16.0               157.0   \n",
       "cam_8             99.0            1.0              13.0               222.0   \n",
       "cam_9            107.0            1.0              11.0                87.0   \n",
       "cam_10            68.0            1.0               7.0                71.0   \n",
       "cam_11            44.0            0.0               8.0                68.0   \n",
       "\n",
       "        has_ignore_cutting  has_ignore_oil  has_sabi  has_unuse  \n",
       "cam_0                 68.0             3.0     261.0        7.0  \n",
       "cam_1                 61.0             7.0     252.0        6.0  \n",
       "cam_2                 48.0             7.0     244.0        7.0  \n",
       "cam_3                  6.0             6.0     220.0        6.0  \n",
       "cam_4                  0.0             3.0     192.0        7.0  \n",
       "cam_5                  0.0             2.0     204.0        9.0  \n",
       "cam_6                  5.0             5.0     202.0        7.0  \n",
       "cam_7                 23.0             8.0     245.0        5.0  \n",
       "cam_8                 27.0             8.0     246.0        4.0  \n",
       "cam_9                 40.0             8.0     249.0        5.0  \n",
       "cam_10                32.0             2.0     261.0        4.0  \n",
       "cam_11                47.0             1.0     266.0        4.0  "
      ]
     },
     "execution_count": 12,
     "metadata": {},
     "output_type": "execute_result"
    }
   ],
   "source": [
    "#Check the result\n",
    "df_counter"
   ]
  },
  {
   "cell_type": "code",
   "execution_count": 14,
   "metadata": {},
   "outputs": [
    {
     "name": "stdout",
     "output_type": "stream",
     "text": [
      "1156.0\n"
     ]
    },
    {
     "data": {
      "image/png": "[encoded data removed]",
      "text/plain": [
       "<Figure size 432x288 with 1 Axes>"
      ]
     },
     "metadata": {
      "needs_background": "light"
     },
     "output_type": "display_data"
    }
   ],
   "source": [
    "#plot the result\n",
    "x = df_counter.index\n",
    "y = df_counter['has_kizu_dakon']\n",
    "plt.title(\"Dakon Kizu\", fontsize=18)\n",
    "plt.xlabel(\"camera_angel\", fontsize=18)\n",
    "plt.ylabel(\"# of dakon_kizu\", fontsize=18)\n",
    "plt.tick_params(labelsize=7)\n",
    "plt.bar(x,y)\n",
    "plt.savefig(\"./Figure/Dakon_CamAngle.png\")\n",
    "\n",
    "print(sum(y))"
   ]
  },
  {
   "cell_type": "code",
   "execution_count": 15,
   "metadata": {},
   "outputs": [
    {
     "name": "stdout",
     "output_type": "stream",
     "text": [
      "15.0\n"
     ]
    },
    {
     "data": {
      "image/png": "[encoded data removed]",
      "text/plain": [
       "<Figure size 432x288 with 1 Axes>"
      ]
     },
     "metadata": {
      "needs_background": "light"
     },
     "output_type": "display_data"
    }
   ],
   "source": [
    "#plot the result\n",
    "x = df_counter.index\n",
    "y = df_counter['has_kizu_ware']\n",
    "plt.title(\"Ware Kizu\", fontsize=18)\n",
    "plt.xlabel(\"camera_angel\", fontsize=18)\n",
    "plt.ylabel(\"# of ware_kizu\", fontsize=18)\n",
    "plt.tick_params(labelsize=7)\n",
    "plt.bar(x,y)\n",
    "plt.savefig(\"./Figure/Ware_CamAngle.png\")\n",
    "\n",
    "print(sum(y))"
   ]
  },
  {
   "cell_type": "code",
   "execution_count": 16,
   "metadata": {},
   "outputs": [
    {
     "name": "stdout",
     "output_type": "stream",
     "text": [
      "183.0\n"
     ]
    },
    {
     "data": {
      "image/png": "[encoded data removed]",
      "text/plain": [
       "<Figure size 432x288 with 1 Axes>"
      ]
     },
     "metadata": {
      "needs_background": "light"
     },
     "output_type": "display_data"
    }
   ],
   "source": [
    "#plot the result\n",
    "x = df_counter.index\n",
    "y = df_counter['has_kizu_zairyou']\n",
    "plt.title(\"Zairyou Kizu\", fontsize=18)\n",
    "plt.xlabel(\"camera_angel\", fontsize=18)\n",
    "plt.ylabel(\"# of Zairyou_kizu\", fontsize=18)\n",
    "plt.tick_params(labelsize=7)\n",
    "plt.bar(x,y)\n",
    "plt.savefig(\"./Figure/Zairyou_CamAngle.png\")\n",
    "\n",
    "print(sum(y))"
   ]
  },
  {
   "cell_type": "code",
   "execution_count": 17,
   "metadata": {},
   "outputs": [
    {
     "data": {
      "text/html": [
       "<div>\n",
       "<style scoped>\n",
       "    .dataframe tbody tr th:only-of-type {\n",
       "        vertical-align: middle;\n",
       "    }\n",
       "\n",
       "    .dataframe tbody tr th {\n",
       "        vertical-align: top;\n",
       "    }\n",
       "\n",
       "    .dataframe thead th {\n",
       "        text-align: right;\n",
       "    }\n",
       "</style>\n",
       "<table border=\"1\" class=\"dataframe\">\n",
       "  <thead>\n",
       "    <tr style=\"text-align: right;\">\n",
       "      <th></th>\n",
       "      <th>nomaly</th>\n",
       "      <th>anomaly</th>\n",
       "    </tr>\n",
       "  </thead>\n",
       "  <tbody>\n",
       "    <tr>\n",
       "      <th>cam_0</th>\n",
       "      <td>942.0</td>\n",
       "      <td>144.0</td>\n",
       "    </tr>\n",
       "    <tr>\n",
       "      <th>cam_1</th>\n",
       "      <td>869.0</td>\n",
       "      <td>217.0</td>\n",
       "    </tr>\n",
       "    <tr>\n",
       "      <th>cam_2</th>\n",
       "      <td>826.0</td>\n",
       "      <td>260.0</td>\n",
       "    </tr>\n",
       "    <tr>\n",
       "      <th>cam_3</th>\n",
       "      <td>762.0</td>\n",
       "      <td>324.0</td>\n",
       "    </tr>\n",
       "    <tr>\n",
       "      <th>cam_4</th>\n",
       "      <td>789.0</td>\n",
       "      <td>297.0</td>\n",
       "    </tr>\n",
       "    <tr>\n",
       "      <th>cam_5</th>\n",
       "      <td>834.0</td>\n",
       "      <td>252.0</td>\n",
       "    </tr>\n",
       "    <tr>\n",
       "      <th>cam_6</th>\n",
       "      <td>787.0</td>\n",
       "      <td>299.0</td>\n",
       "    </tr>\n",
       "    <tr>\n",
       "      <th>cam_7</th>\n",
       "      <td>796.0</td>\n",
       "      <td>290.0</td>\n",
       "    </tr>\n",
       "    <tr>\n",
       "      <th>cam_8</th>\n",
       "      <td>857.0</td>\n",
       "      <td>229.0</td>\n",
       "    </tr>\n",
       "    <tr>\n",
       "      <th>cam_9</th>\n",
       "      <td>848.0</td>\n",
       "      <td>238.0</td>\n",
       "    </tr>\n",
       "    <tr>\n",
       "      <th>cam_10</th>\n",
       "      <td>935.0</td>\n",
       "      <td>151.0</td>\n",
       "    </tr>\n",
       "    <tr>\n",
       "      <th>cam_11</th>\n",
       "      <td>980.0</td>\n",
       "      <td>106.0</td>\n",
       "    </tr>\n",
       "  </tbody>\n",
       "</table>\n",
       "</div>"
      ],
      "text/plain": [
       "        nomaly  anomaly\n",
       "cam_0    942.0    144.0\n",
       "cam_1    869.0    217.0\n",
       "cam_2    826.0    260.0\n",
       "cam_3    762.0    324.0\n",
       "cam_4    789.0    297.0\n",
       "cam_5    834.0    252.0\n",
       "cam_6    787.0    299.0\n",
       "cam_7    796.0    290.0\n",
       "cam_8    857.0    229.0\n",
       "cam_9    848.0    238.0\n",
       "cam_10   935.0    151.0\n",
       "cam_11   980.0    106.0"
      ]
     },
     "execution_count": 17,
     "metadata": {},
     "output_type": "execute_result"
    }
   ],
   "source": [
    "anomaly_count = pd.DataFrame(np.zeros(24).reshape(12,2),\n",
    "                            columns=['nomaly','anomaly'],\n",
    "                            index=['cam_0', 'cam_1','cam_2','cam_3','cam_4','cam_5','cam_6','cam_7','cam_8','cam_9','cam_10','cam_11'])\n",
    "for i in range(len(df)):\n",
    "    if df['is_anomaly_image'][i] == 1.0:\n",
    "        anomaly_count['anomaly'][df['camera_angle'][i]] += 1\n",
    "    else:\n",
    "        anomaly_count['nomaly'][df['camera_angle'][i]] += 1\n",
    "\n",
    "anomaly_count"
   ]
  },
  {
   "cell_type": "code",
   "execution_count": 18,
   "metadata": {},
   "outputs": [
    {
     "data": {
      "text/plain": [
       "10225.0"
      ]
     },
     "execution_count": 18,
     "metadata": {},
     "output_type": "execute_result"
    }
   ],
   "source": [
    "sum(anomaly_count['nomaly'])"
   ]
  },
  {
   "cell_type": "code",
   "execution_count": 19,
   "metadata": {},
   "outputs": [
    {
     "data": {
      "text/plain": [
       "2807.0"
      ]
     },
     "execution_count": 19,
     "metadata": {},
     "output_type": "execute_result"
    }
   ],
   "source": [
    "sum(anomaly_count['anomaly'])"
   ]
  },
  {
   "cell_type": "code",
   "execution_count": 20,
   "metadata": {},
   "outputs": [
    {
     "name": "stderr",
     "output_type": "stream",
     "text": [
      "<ipython-input-20-86de33c892a8>:36: SettingWithCopyWarning: \n",
      "A value is trying to be set on a copy of a slice from a DataFrame\n",
      "\n",
      "See the caveats in the documentation: https://pandas.pydata.org/pandas-docs/stable/user_guide/indexing.html#returning-a-view-versus-a-copy\n",
      "  df2['new_dakon_kizu'][i+int((temp_cam_angle+k)/2)] = 1\n"
     ]
    }
   ],
   "source": [
    "#Count the \"Actual\" number of wound\n",
    "'''\n",
    "I think the number of wound which I have calucualted ever is not the number of wound, because if there is wound at camera_angle \"3\", in most of case, the camera_angle \"2\" and \"4\" find \n",
    "the wound. So, the acutual the number of wound is \"1\",but now I counted 3.\n",
    "'''\n",
    "df2 = df_uncrop\n",
    "df2['new_dakon_kizu'] = 0\n",
    "\n",
    "'''\n",
    "new_dakon_kizu is an Acutual the number of kizu.\n",
    "\n",
    "         has_dakon_kizu new_dakon_kizu  \n",
    "cam_angle\n",
    "0              0             0\n",
    "1              1             1\n",
    "2              1             0\n",
    "3              0             0\n",
    "4              1      |\\     0\n",
    "5              1    |-  \\    1\n",
    "6              1    |-  /    0\n",
    "7              0      |/     0\n",
    "8              1             0\n",
    "9              1             1\n",
    "10             1             0\n",
    "11             1             0\n",
    "'''\n",
    "\n",
    "for i in range(0,df2.shape[0],12):\n",
    "    flag = 0\n",
    "    temp_cam_angle = 0\n",
    "    for k in range(12):\n",
    "        if df2['has_kizu_dakon'][i+k] == 1 and flag == 0:\n",
    "            flag = 1\n",
    "            temp_cam_id = i\n",
    "        if df2['has_kizu_dakon'][i+k] == 0 and flag == 1:\n",
    "            df2['new_dakon_kizu'][i+int((temp_cam_angle+k)/2)] = 1\n",
    "            flag = 0\n",
    "            temp_cam_angle = 0"
   ]
  },
  {
   "cell_type": "code",
   "execution_count": 21,
   "metadata": {},
   "outputs": [
    {
     "data": {
      "text/plain": [
       "0    0\n",
       "1    0\n",
       "2    0\n",
       "3    0\n",
       "4    1\n",
       "5    0\n",
       "6    0\n",
       "7    0\n",
       "8    0\n",
       "9    0\n",
       "Name: new_dakon_kizu, dtype: int64"
      ]
     },
     "execution_count": 21,
     "metadata": {},
     "output_type": "execute_result"
    }
   ],
   "source": [
    "#check the new_dakon_kizu\n",
    "df2['new_dakon_kizu'].head(10)"
   ]
  },
  {
   "cell_type": "code",
   "execution_count": 22,
   "metadata": {},
   "outputs": [],
   "source": [
    "#count actual the number of dakon kizu by camera_angle\n",
    "dakon_camera_num = [0 for _ in range(12)]\n",
    "for i in range(df2.shape[0]):\n",
    "    if df2['new_dakon_kizu'][i] == 1:\n",
    "        dakon_camera_num[int(df2['camera_angle'][i])] += 1"
   ]
  },
  {
   "cell_type": "code",
   "execution_count": 23,
   "metadata": {},
   "outputs": [
    {
     "data": {
      "text/plain": [
       "[13, 21, 73, 56, 58, 79, 0, 0, 0, 0, 0, 0]"
      ]
     },
     "execution_count": 23,
     "metadata": {},
     "output_type": "execute_result"
    }
   ],
   "source": [
    "dakon_camera_num"
   ]
  },
  {
   "cell_type": "code",
   "execution_count": 24,
   "metadata": {},
   "outputs": [
    {
     "name": "stderr",
     "output_type": "stream",
     "text": [
      "<ipython-input-24-bfa34977fe39>:12: SettingWithCopyWarning: \n",
      "A value is trying to be set on a copy of a slice from a DataFrame\n",
      "\n",
      "See the caveats in the documentation: https://pandas.pydata.org/pandas-docs/stable/user_guide/indexing.html#returning-a-view-versus-a-copy\n",
      "  df2['new_ware_kizu'][i+int((temp_cam_angle+k)/2)] = 1\n",
      "<ipython-input-24-bfa34977fe39>:32: SettingWithCopyWarning: \n",
      "A value is trying to be set on a copy of a slice from a DataFrame\n",
      "\n",
      "See the caveats in the documentation: https://pandas.pydata.org/pandas-docs/stable/user_guide/indexing.html#returning-a-view-versus-a-copy\n",
      "  df2['new_zairyou_kizu'][i+int((temp_cam_angle+k)/2)] = 1\n"
     ]
    }
   ],
   "source": [
    "#This is the same proces as dakon_kizu\n",
    "#ware\n",
    "df2['new_ware_kizu'] = 0\n",
    "for i in range(0,df2.shape[0],12):\n",
    "    flag = 0\n",
    "    temp_cam_angle = 0\n",
    "    for k in range(12):\n",
    "        if df2['has_kizu_ware'][i+k] == 1 and flag == 0:\n",
    "            flag = 1\n",
    "            temp_cam_id = i\n",
    "        if df2['has_kizu_ware'][i+k] == 0 and flag == 1:\n",
    "            df2['new_ware_kizu'][i+int((temp_cam_angle+k)/2)] = 1\n",
    "            flag = 0\n",
    "            temp_cam_angle = 0\n",
    "            \n",
    "ware_camera_num = [0 for _ in range(12)]\n",
    "for i in range(df2.shape[0]):\n",
    "    if df2['new_ware_kizu'][i] == 1:\n",
    "        ware_camera_num[int(df2['camera_angle'][i])] += 1\n",
    "\n",
    "        \n",
    "#zairyou \n",
    "df2['new_zairyou_kizu'] = 0\n",
    "for i in range(0,df2.shape[0],12):\n",
    "    flag = 0\n",
    "    temp_cam_angle = 0\n",
    "    for k in range(12):\n",
    "        if df2['has_kizu_zairyou'][i+k] == 1 and flag == 0:\n",
    "            flag = 1\n",
    "            temp_cam_id = i\n",
    "        if df2['has_kizu_zairyou'][i+k] == 0 and flag == 1:\n",
    "            df2['new_zairyou_kizu'][i+int((temp_cam_angle+k)/2)] = 1\n",
    "            flag = 0\n",
    "            temp_cam_angle = 0\n",
    "zairyou_camera_num = [0 for _ in range(12)]\n",
    "for i in range(df2.shape[0]):\n",
    "    if df2['new_zairyou_kizu'][i] == 1:\n",
    "        zairyou_camera_num[int(df2['camera_angle'][i])] += 1"
   ]
  },
  {
   "cell_type": "code",
   "execution_count": 25,
   "metadata": {},
   "outputs": [
    {
     "data": {
      "image/png": "[encoded data removed]",
      "text/plain": [
       "<Figure size 432x288 with 1 Axes>"
      ]
     },
     "metadata": {
      "needs_background": "light"
     },
     "output_type": "display_data"
    }
   ],
   "source": [
    "#plot the result\n",
    "x = [i for i in range(12)]\n",
    "plt.bar(x,dakon_camera_num)\n",
    "plt.xlabel(\"camera_angel\")\n",
    "plt.ylabel(\"# of dakon_kizu\")\n",
    "plt.savefig(\"Figure/#_of_dakon_kizu\")"
   ]
  },
  {
   "cell_type": "code",
   "execution_count": 26,
   "metadata": {},
   "outputs": [
    {
     "name": "stdout",
     "output_type": "stream",
     "text": [
      "2\n"
     ]
    },
    {
     "data": {
      "image/png": "[encoded data removed]",
      "text/plain": [
       "<Figure size 432x288 with 1 Axes>"
      ]
     },
     "metadata": {
      "needs_background": "light"
     },
     "output_type": "display_data"
    }
   ],
   "source": [
    "#plot the result\n",
    "x = [i for i in range(12)]\n",
    "plt.bar(x,ware_camera_num)\n",
    "plt.xlabel(\"camera_angel\")\n",
    "plt.ylabel(\"# of ware_kizu\")\n",
    "plt.savefig(\"Figure/#_of_ware_kizu\")\n",
    "print(sum(ware_camera_num))"
   ]
  },
  {
   "cell_type": "code",
   "execution_count": 27,
   "metadata": {},
   "outputs": [
    {
     "data": {
      "image/png": "[encoded data removed]",
      "text/plain": [
       "<Figure size 432x288 with 1 Axes>"
      ]
     },
     "metadata": {
      "needs_background": "light"
     },
     "output_type": "display_data"
    }
   ],
   "source": [
    "#plot the result\n",
    "x = [i for i in range(12)]\n",
    "plt.bar(x,zairyou_camera_num)\n",
    "plt.xlabel(\"camera_angel\")\n",
    "plt.ylabel(\"# of zairyou_kizu\")\n",
    "plt.savefig(\"Figure/#_of_zairyou_kizu\")"
   ]
  },
  {
   "cell_type": "code",
   "execution_count": null,
   "metadata": {},
   "outputs": [],
   "source": []
  },
  {
   "cell_type": "code",
   "execution_count": null,
   "metadata": {},
   "outputs": [],
   "source": []
  },
  {
   "cell_type": "code",
   "execution_count": null,
   "metadata": {},
   "outputs": [],
   "source": []
  }
 ],
 "metadata": {
  "kernelspec": {
   "display_name": "Python 3",
   "language": "python",
   "name": "python3"
  },
  "language_info": {
   "codemirror_mode": {
    "name": "ipython",
    "version": 3
   },
   "file_extension": ".py",
   "mimetype": "text/x-python",
   "name": "python",
   "nbconvert_exporter": "python",
   "pygments_lexer": "ipython3",
   "version": "3.8.5"
  }
 },
 "nbformat": 4,
 "nbformat_minor": 4
}
