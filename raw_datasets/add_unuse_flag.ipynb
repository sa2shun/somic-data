{
 "cells": [
  {
   "cell_type": "code",
   "execution_count": 1,
   "metadata": {},
   "outputs": [],
   "source": [
    "from pathlib import Path\n",
    "from tqdm import tqdm\n",
    "\n",
    "import numpy as np"
   ]
  },
  {
   "cell_type": "code",
   "execution_count": 2,
   "metadata": {},
   "outputs": [],
   "source": [
    "base = Path(\"./20201005_H_2_anomaly\")"
   ]
  },
  {
   "cell_type": "code",
   "execution_count": 12,
   "metadata": {},
   "outputs": [
    {
     "name": "stdout",
     "output_type": "stream",
     "text": [
      "color_images/*.bmp 3504\n",
      "color_images/*.jpg 3504\n",
      "gray_images/*.bmp 3504\n",
      "gray_images/*.jpg 3504\n"
     ]
    }
   ],
   "source": [
    "print(\"color_images/*.bmp\", len([p for p in base.glob(\"color_images/*.bmp\")]))\n",
    "print(\"color_images/*.jpg\", len([p for p in base.glob(\"color_images/*.jpg\")]))\n",
    "print(\"gray_images/*.bmp\", len([p for p in base.glob(\"gray_images/*.bmp\")]))\n",
    "print(\"gray_images/*.jpg\", len([p for p in base.glob(\"gray_images/*.jpg\")]))"
   ]
  },
  {
   "cell_type": "code",
   "execution_count": 6,
   "metadata": {},
   "outputs": [
    {
     "name": "stderr",
     "output_type": "stream",
     "text": [
      "3364it [00:03, 1110.79it/s]\n"
     ]
    }
   ],
   "source": [
    "import json\n",
    "\n",
    "li = []\n",
    "for p in tqdm(base.glob(\"jsons/*.json\")):\n",
    "    with open(p) as f:\n",
    "        data = json.load(f)\n",
    "        flags = data[\"flags\"]\n",
    "        if \"unuse\" not in flags.keys():\n",
    "            data[\"flags\"][\"unuse\"] = False\n",
    "            with open(p, \"w\") as f:\n",
    "                json.dump(data, f, ensure_ascii=False, indent=2)"
   ]
  },
  {
   "cell_type": "code",
   "execution_count": 7,
   "metadata": {},
   "outputs": [],
   "source": [
    "import json\n",
    "\n",
    "li = []\n",
    "for p in base.glob(\"jsons/*.json\"):\n",
    "    with open(p) as f:\n",
    "        data = json.load(f)\n",
    "        flags = data[\"flags\"]\n",
    "        if \"unuse\" not in flags.keys():\n",
    "            print(p)"
   ]
  },
  {
   "cell_type": "code",
   "execution_count": 8,
   "metadata": {},
   "outputs": [
    {
     "name": "stderr",
     "output_type": "stream",
     "text": [
      "7488it [00:00, 11497.73it/s]\n",
      "7488it [00:00, 51555.09it/s]\n"
     ]
    }
   ],
   "source": [
    "product_id_list = [p.stem.split(\"_\")[0] for p in base.glob(\"jsons/*.json\")]\n",
    "product_id_list = list(set(product_id_list))\n",
    "\n",
    "for p in tqdm(base.glob(f\"*_images/*.bmp\")):\n",
    "    product_id = p.stem.split(\"_\")[0]\n",
    "    if product_id not in product_id_list:\n",
    "        p.unlink()\n",
    "        \n",
    "for p in tqdm(base.glob(f\"*_images/*.jpg\")):\n",
    "    product_id = p.stem.split(\"_\")[0]\n",
    "    if product_id not in product_id_list:\n",
    "        p.unlink()"
   ]
  },
  {
   "cell_type": "code",
   "execution_count": null,
   "metadata": {},
   "outputs": [],
   "source": []
  }
 ],
 "metadata": {
  "kernelspec": {
   "display_name": "Python 3",
   "language": "python",
   "name": "python3"
  },
  "language_info": {
   "codemirror_mode": {
    "name": "ipython",
    "version": 3
   },
   "file_extension": ".py",
   "mimetype": "text/x-python",
   "name": "python",
   "nbconvert_exporter": "python",
   "pygments_lexer": "ipython3",
   "version": "3.6.5"
  }
 },
 "nbformat": 4,
 "nbformat_minor": 4
}
